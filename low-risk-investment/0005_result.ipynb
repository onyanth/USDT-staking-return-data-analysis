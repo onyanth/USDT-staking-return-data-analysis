{
 "cells": [
  {
   "cell_type": "code",
   "execution_count": 1,
   "id": "e8c519eb",
   "metadata": {},
   "outputs": [],
   "source": [
    "from bs4 import BeautifulSoup\n",
    "import requests\n",
    "from selenium import webdriver\n",
    "from selenium.webdriver.common.keys import Keys\n",
    "import time\n",
    "import re"
   ]
  },
  {
   "cell_type": "code",
   "execution_count": 2,
   "id": "622e5a5c",
   "metadata": {},
   "outputs": [],
   "source": [
    "import os\n",
    "os.chdir(\"C:\\\\Users\\\\User\\\\Desktop\\\\data_sciencebootcamp\\\\Course Materials-20220421T131209Z-001\\\\Course Materials\\\\01Foundation\\\\13-web_scraping\")"
   ]
  },
  {
   "cell_type": "code",
   "execution_count": 3,
   "id": "8059003f",
   "metadata": {},
   "outputs": [
    {
     "name": "stderr",
     "output_type": "stream",
     "text": [
      "C:\\Users\\User\\AppData\\Local\\Temp/ipykernel_17564/3281234225.py:3: DeprecationWarning: executable_path has been deprecated, please pass in a Service object\n",
      "  driver = webdriver.Chrome('./chromedriver')\n"
     ]
    },
    {
     "name": "stdout",
     "output_type": "stream",
     "text": [
      "D:USD 0.1800\n"
     ]
    },
    {
     "name": "stderr",
     "output_type": "stream",
     "text": [
      "C:\\Users\\User\\AppData\\Local\\Temp/ipykernel_17564/3281234225.py:7: DeprecationWarning: find_element_by_xpath is deprecated. Please use find_element(by=By.XPATH, value=xpath) instead\n",
      "  tag_rate3 = driver.find_element_by_xpath('//*[@id=\"divContentContainer\"]/div[4]/div[4]/div[1]/table/tbody/tr[3]/td[4]')\n"
     ]
    }
   ],
   "source": [
    "#AASTOCK 00005 22/2/22\n",
    "URL3= 'http://www.aastocks.com/en/stocks/analysis/dividend.aspx?symbol=00005'\n",
    "driver = webdriver.Chrome('./chromedriver')\n",
    "driver.get(URL3)\n",
    "subhtml = driver.page_source\n",
    "\n",
    "tag_rate3 = driver.find_element_by_xpath('//*[@id=\"divContentContainer\"]/div[4]/div[4]/div[1]/table/tbody/tr[3]/td[4]')\n",
    "print(tag_rate3.text)\n"
   ]
  },
  {
   "cell_type": "code",
   "execution_count": 4,
   "id": "44f90649",
   "metadata": {},
   "outputs": [
    {
     "name": "stdout",
     "output_type": "stream",
     "text": [
      "['0.1800']\n"
     ]
    }
   ],
   "source": [
    "import re\n",
    "t_all_data = 'D:USD 0.1800'\n",
    "aastock0005_feb = ''\n",
    "percentage = r'\\d*\\.\\d*'\n",
    "aastock0005_feb = re.findall(percentage,t_all_data)\n",
    "print(aastock0005_feb)"
   ]
  },
  {
   "cell_type": "code",
   "execution_count": 5,
   "id": "b0411b66",
   "metadata": {
    "scrolled": true
   },
   "outputs": [
    {
     "name": "stderr",
     "output_type": "stream",
     "text": [
      "C:\\Users\\User\\AppData\\Local\\Temp/ipykernel_17564/4098060164.py:3: DeprecationWarning: executable_path has been deprecated, please pass in a Service object\n",
      "  driver = webdriver.Chrome('./chromedriver')\n",
      "C:\\Users\\User\\AppData\\Local\\Temp/ipykernel_17564/4098060164.py:7: DeprecationWarning: find_element_by_xpath is deprecated. Please use find_element(by=By.XPATH, value=xpath) instead\n",
      "  tag_rate3 = driver.find_element_by_xpath('//*[@id=\"divContentContainer\"]/div[4]/div[4]/div[1]/table/tbody/tr[5]/td[4]')\n"
     ]
    },
    {
     "name": "stdout",
     "output_type": "stream",
     "text": [
      "D:USD 0.0700\n"
     ]
    }
   ],
   "source": [
    "#AASTOCK 00005 2021/08/02\n",
    "URL3= 'http://www.aastocks.com/en/stocks/analysis/dividend.aspx?symbol=00005'\n",
    "driver = webdriver.Chrome('./chromedriver')\n",
    "driver.get(URL3)\n",
    "subhtml = driver.page_source\n",
    "\n",
    "tag_rate3 = driver.find_element_by_xpath('//*[@id=\"divContentContainer\"]/div[4]/div[4]/div[1]/table/tbody/tr[5]/td[4]')\n",
    "print(tag_rate3.text)"
   ]
  },
  {
   "cell_type": "code",
   "execution_count": 6,
   "id": "9fe0ade4",
   "metadata": {},
   "outputs": [
    {
     "name": "stdout",
     "output_type": "stream",
     "text": [
      "['0.0700']\n"
     ]
    }
   ],
   "source": [
    "t_all_data = 'D:USD 0.0700'\n",
    "aastock0005_aug = ''\n",
    "percentage = r'\\d*\\.\\d*'\n",
    "aastock0005_aug = re.findall(percentage,t_all_data)\n",
    "print(aastock0005_aug)"
   ]
  },
  {
   "cell_type": "code",
   "execution_count": 7,
   "id": "60471e66",
   "metadata": {},
   "outputs": [
    {
     "name": "stdout",
     "output_type": "stream",
     "text": [
      "2.57\n",
      "1.32\n"
     ]
    }
   ],
   "source": [
    "#calclate the interest rate with the dividend\n",
    "#interest rate of 0005.HK in 180 day and 360 day\n",
    "#7.85 is the rate of USD exchange rate\n",
    "#denominator is the price of the stock\n",
    "interest_0005_feb = round(float(aastock0005_feb[0])*7.85*100 / 55.046 , 2)\n",
    "print(interest_0005_feb)\n",
    "interest_0005_aug = round(float(aastock0005_aug[0])*7.85*100 / 41.502 , 2)\n",
    "print(interest_0005_aug)"
   ]
  },
  {
   "cell_type": "code",
   "execution_count": 8,
   "id": "d4edf7f0",
   "metadata": {},
   "outputs": [
    {
     "name": "stdout",
     "output_type": "stream",
     "text": [
      "[0, 0, 0, 0, 0, 2.57, 3.89]\n"
     ]
    }
   ],
   "source": [
    "HSBC = [0,0,0,0,0,interest_0005_feb,round(interest_0005_feb+interest_0005_aug,2)]\n",
    "print(HSBC)"
   ]
  },
  {
   "cell_type": "code",
   "execution_count": null,
   "id": "ebe5ef0a",
   "metadata": {},
   "outputs": [],
   "source": []
  }
 ],
 "metadata": {
  "kernelspec": {
   "display_name": "Python 3 (ipykernel)",
   "language": "python",
   "name": "python3"
  },
  "language_info": {
   "codemirror_mode": {
    "name": "ipython",
    "version": 3
   },
   "file_extension": ".py",
   "mimetype": "text/x-python",
   "name": "python",
   "nbconvert_exporter": "python",
   "pygments_lexer": "ipython3",
   "version": "3.9.7"
  }
 },
 "nbformat": 4,
 "nbformat_minor": 5
}
