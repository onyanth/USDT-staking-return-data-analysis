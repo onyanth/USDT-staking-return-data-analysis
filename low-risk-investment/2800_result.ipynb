{
 "cells": [
  {
   "cell_type": "code",
   "execution_count": 1,
   "id": "93b035ab",
   "metadata": {},
   "outputs": [],
   "source": [
    "from bs4 import BeautifulSoup\n",
    "import requests\n",
    "from selenium import webdriver\n",
    "from selenium.webdriver.common.keys import Keys\n",
    "import time\n",
    "import re"
   ]
  },
  {
   "cell_type": "code",
   "execution_count": 2,
   "id": "f189bebb",
   "metadata": {},
   "outputs": [],
   "source": [
    "import os\n",
    "os.chdir(\"C:\\\\Users\\\\User\\\\Desktop\\\\data_sciencebootcamp\\\\Course Materials-20220421T131209Z-001\\\\Course Materials\\\\01Foundation\\\\13-web_scraping\")"
   ]
  },
  {
   "cell_type": "code",
   "execution_count": 3,
   "id": "2ae6fa9e",
   "metadata": {},
   "outputs": [
    {
     "name": "stderr",
     "output_type": "stream",
     "text": [
      "C:\\Users\\User\\AppData\\Local\\Temp/ipykernel_7488/2498736663.py:4: DeprecationWarning: executable_path has been deprecated, please pass in a Service object\n",
      "  driver = webdriver.Chrome('./chromedriver')\n"
     ]
    },
    {
     "name": "stdout",
     "output_type": "stream",
     "text": [
      "D:HKD 0.1300\n"
     ]
    },
    {
     "name": "stderr",
     "output_type": "stream",
     "text": [
      "C:\\Users\\User\\AppData\\Local\\Temp/ipykernel_7488/2498736663.py:8: DeprecationWarning: find_element_by_xpath is deprecated. Please use find_element(by=By.XPATH, value=xpath) instead\n",
      "  tag_rate9 = driver.find_element_by_xpath('//*[@id=\"divContentContainer\"]/div[4]/div[4]/div[1]/table/tbody/tr[4]/td[4]')\n"
     ]
    }
   ],
   "source": [
    "#AASTOCK 2800 2021/05/31\n",
    "\n",
    "URL9= 'http://www.aastocks.com/en/stocks/analysis/dividend.aspx?symbol=02800'\n",
    "driver = webdriver.Chrome('./chromedriver')\n",
    "driver.get(URL9)\n",
    "subhtml = driver.page_source\n",
    "\n",
    "tag_rate9 = driver.find_element_by_xpath('//*[@id=\"divContentContainer\"]/div[4]/div[4]/div[1]/table/tbody/tr[4]/td[4]')\n",
    "print(tag_rate9.text)"
   ]
  },
  {
   "cell_type": "code",
   "execution_count": 4,
   "id": "1a4756a5",
   "metadata": {},
   "outputs": [
    {
     "name": "stdout",
     "output_type": "stream",
     "text": [
      "['0.1300']\n"
     ]
    }
   ],
   "source": [
    "t_all_data = 'D:HKD 0.1300'\n",
    "aastock2800_May = ''\n",
    "percentage = r'\\d*\\.\\d*'\n",
    "aastock2800_May = re.findall(percentage,t_all_data)\n",
    "print(aastock2800_May)"
   ]
  },
  {
   "cell_type": "code",
   "execution_count": 5,
   "id": "3e9ea66c",
   "metadata": {},
   "outputs": [
    {
     "name": "stderr",
     "output_type": "stream",
     "text": [
      "C:\\Users\\User\\AppData\\Local\\Temp/ipykernel_7488/3713831508.py:4: DeprecationWarning: executable_path has been deprecated, please pass in a Service object\n",
      "  driver = webdriver.Chrome('./chromedriver')\n"
     ]
    },
    {
     "name": "stdout",
     "output_type": "stream",
     "text": [
      "D:HKD 0.5400\n"
     ]
    },
    {
     "name": "stderr",
     "output_type": "stream",
     "text": [
      "C:\\Users\\User\\AppData\\Local\\Temp/ipykernel_7488/3713831508.py:8: DeprecationWarning: find_element_by_xpath is deprecated. Please use find_element(by=By.XPATH, value=xpath) instead\n",
      "  tag_rate8 = driver.find_element_by_xpath('//*[@id=\"divContentContainer\"]/div[4]/div[4]/div[1]/table/tbody/tr[3]/td[4]')\n"
     ]
    }
   ],
   "source": [
    "#AASTOCK 2800 2021/11/30\n",
    "\n",
    "URL8= 'http://www.aastocks.com/en/stocks/analysis/dividend.aspx?symbol=02800'\n",
    "driver = webdriver.Chrome('./chromedriver')\n",
    "driver.get(URL8)\n",
    "subhtml = driver.page_source\n",
    "\n",
    "tag_rate8 = driver.find_element_by_xpath('//*[@id=\"divContentContainer\"]/div[4]/div[4]/div[1]/table/tbody/tr[3]/td[4]')\n",
    "print(tag_rate8.text)"
   ]
  },
  {
   "cell_type": "code",
   "execution_count": 6,
   "id": "661584b5",
   "metadata": {},
   "outputs": [
    {
     "name": "stdout",
     "output_type": "stream",
     "text": [
      "['0.5400']\n"
     ]
    }
   ],
   "source": [
    "t_all_data = 'D:HKD 0.5400'\n",
    "aastock2800_Nov = ''\n",
    "percentage = r'\\d*\\.\\d*'\n",
    "aastock2800_Nov = re.findall(percentage,t_all_data)\n",
    "print(aastock2800_Nov)"
   ]
  },
  {
   "cell_type": "code",
   "execution_count": 7,
   "id": "1a27361e",
   "metadata": {},
   "outputs": [
    {
     "name": "stdout",
     "output_type": "stream",
     "text": [
      "0.4517\n",
      "2.294\n"
     ]
    }
   ],
   "source": [
    "#calclate the interest rate with the dividend\n",
    "#interest rate of 2800 in 180 ,360\n",
    "#denominator is the price of the ETF\n",
    "interest_2800_May = round(float(aastock2800_May[0])*100 / 28.78 , 4)\n",
    "print(interest_2800_May)\n",
    "interest_2800_Nov = round(float(aastock2800_Nov[0])*100 / 23.54 , 4)\n",
    "print(interest_2800_Nov)\n"
   ]
  },
  {
   "cell_type": "code",
   "execution_count": 8,
   "id": "b044a55b",
   "metadata": {},
   "outputs": [
    {
     "name": "stdout",
     "output_type": "stream",
     "text": [
      "[0, 0, 0, 0, 0, 0.45, 2.75]\n"
     ]
    }
   ],
   "source": [
    "ETF_2800 = [0,0,0,0,0,round(interest_2800_May,2),round(interest_2800_May+interest_2800_Nov,2)]\n",
    "print(ETF_2800)"
   ]
  },
  {
   "cell_type": "code",
   "execution_count": null,
   "id": "4ef42809",
   "metadata": {},
   "outputs": [],
   "source": []
  }
 ],
 "metadata": {
  "kernelspec": {
   "display_name": "Python 3 (ipykernel)",
   "language": "python",
   "name": "python3"
  },
  "language_info": {
   "codemirror_mode": {
    "name": "ipython",
    "version": 3
   },
   "file_extension": ".py",
   "mimetype": "text/x-python",
   "name": "python",
   "nbconvert_exporter": "python",
   "pygments_lexer": "ipython3",
   "version": "3.9.7"
  }
 },
 "nbformat": 4,
 "nbformat_minor": 5
}
